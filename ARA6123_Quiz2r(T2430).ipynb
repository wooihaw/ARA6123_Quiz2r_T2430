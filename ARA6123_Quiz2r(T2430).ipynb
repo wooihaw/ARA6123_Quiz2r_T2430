{
 "cells": [
  {
   "cell_type": "markdown",
   "id": "20374c67-8881-4dc9-b7d5-baeff57072d2",
   "metadata": {
    "id": "20374c67-8881-4dc9-b7d5-baeff57072d2"
   },
   "source": [
    "## ARA6123 Quiz 2 (replacement)  \n",
    "##### (1 hour)"
   ]
  },
  {
   "cell_type": "markdown",
   "id": "57ac5843-5d42-4daa-9a01-b7e61e605831",
   "metadata": {
    "id": "57ac5843-5d42-4daa-9a01-b7e61e605831"
   },
   "source": [
    "Name:  \n",
    "Student ID:  \n",
    "Date:  "
   ]
  },
  {
   "cell_type": "markdown",
   "id": "9408db05-8cba-4db8-bf79-90a85d1a3150",
   "metadata": {
    "id": "9408db05-8cba-4db8-bf79-90a85d1a3150"
   },
   "source": [
    "#### Description  \n",
    "In this quiz, you will apply machine learning techniques to classify penguins into three species (Adelie, Gentoo and Chinstrap) based on the provided dataset (penguins_dataset.csv).\n",
    "\n",
    "#### Tasks  \n",
    "You are required to complete the following tasks:\n",
    "1. Load the dataset to a Pandas dataframe\n",
    "2. Print the first 5 rows of the dataset.\n",
    "3. Check for missing values.\n",
    "4. Handle the missing values with data imputation (skip this step if there is no missing value).\n",
    "5. Separate the dataset to features (X) and target (y).\n",
    "6. Apply categorical encoding to the categorical features.\n",
    "7. Use 80% of the data samples for training and the remaining data samples for testing.\n",
    "8. Scale the features using MinMaxScaler\n",
    "9. Train a classification model for each of the following algorithms using default hyperparameter values:  \n",
    "i. Decision Tree  \n",
    "ii. Random Forest  \n",
    "iii. Gradient Boosting Trees  \n",
    "10. Evaluate each of the classification models trained in Step (9) and print out their accuracies in percentage (%).\n",
    "\n",
    "#### Submission\n",
    "1. Rename this Jupyter Notebook to your Student ID.\n",
    "2. Submit to the Quiz 2 Submission section in eBwise."
   ]
  },
  {
   "cell_type": "code",
   "execution_count": 19,
   "id": "9d5f0e59-663d-4cbd-adac-5422bf17a7ac",
   "metadata": {
    "id": "9d5f0e59-663d-4cbd-adac-5422bf17a7ac",
    "tags": []
   },
   "outputs": [],
   "source": [
    "# Load libraries\n",
    "from pandas import read_csv, get_dummies\n",
    "from sklearn.tree import DecisionTreeClassifier\n",
    "from sklearn.ensemble import RandomForestClassifier\n",
    "from sklearn.ensemble import GradientBoostingClassifier\n",
    "from sklearn.model_selection import train_test_split as split\n",
    "from sklearn.preprocessing import MinMaxScaler, StandardScaler, RobustScaler"
   ]
  },
  {
   "cell_type": "code",
   "execution_count": null,
   "id": "04d9ff33-aa37-4053-a019-ba94372f7c86",
   "metadata": {},
   "outputs": [],
   "source": []
  }
 ],
 "metadata": {
  "colab": {
   "include_colab_link": true,
   "provenance": []
  },
  "kernelspec": {
   "display_name": "Python 3 (ipykernel)",
   "language": "python",
   "name": "python3"
  },
  "language_info": {
   "codemirror_mode": {
    "name": "ipython",
    "version": 3
   },
   "file_extension": ".py",
   "mimetype": "text/x-python",
   "name": "python",
   "nbconvert_exporter": "python",
   "pygments_lexer": "ipython3",
   "version": "3.12.7"
  }
 },
 "nbformat": 4,
 "nbformat_minor": 5
}
